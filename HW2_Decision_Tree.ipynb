{
 "cells": [
  {
   "cell_type": "markdown",
   "metadata": {
    "id": "yEtwmT5QNVLn"
   },
   "source": [
    "# **HW2: Decision Tree** \n",
    "In *assignment 2*, you need to:\n",
    "\n",
    "1.   Implement the decision tree in 3 steps (with the example data)\n",
    "\n",
    "\n",
    "*   Step 1: calculate the entropy\n",
    "*   Step 2: search for the best split\n",
    "*   Step 3: build the decision tree\n",
    "\n",
    "2.   Predict the patients' death (hospDIED) in the *MIMIC* dataset\n",
    "\n",
    "Please fill in your **studentID** here."
   ]
  },
  {
   "cell_type": "code",
   "execution_count": 218,
   "metadata": {
    "id": "F-ad78F1Ng-0"
   },
   "outputs": [
    {
     "name": "stdout",
     "output_type": "stream",
     "text": [
      "108062138\n"
     ]
    }
   ],
   "source": [
    "STUDENT_ID = '108062138'\n",
    "print(STUDENT_ID)"
   ]
  },
  {
   "cell_type": "markdown",
   "metadata": {
    "id": "s6lZtFwY4kjA"
   },
   "source": [
    "# **1. Implement the Decision Tree**\n",
    "In the first part, you need to implement the decision tree by completing the given funcitions.\n",
    "\n",
    "Also, you need to run those functions with given input variables and save the output to the implementation csv file **[STUDENT_ID]_implementation.csv**.\n",
    "\n",
    "Implement a binary decision tree to classify *Restaurant* dataset."
   ]
  },
  {
   "cell_type": "markdown",
   "metadata": {
    "id": "aFStwbIaNkrQ"
   },
   "source": [
    "## Import Packages\n",
    "\n",
    "Note: You **cannot** import any other packages in the first part (implementation)!"
   ]
  },
  {
   "cell_type": "code",
   "execution_count": 219,
   "metadata": {
    "id": "Gea2xBsNdQMC"
   },
   "outputs": [],
   "source": [
    "import numpy as np\n",
    "import pandas as pd\n",
    "import random"
   ]
  },
  {
   "cell_type": "markdown",
   "metadata": {
    "id": "QENWRdMMO3z_"
   },
   "source": [
    "## Load the Example Data\n",
    "First, load the *Restaurant waiting* dataset: **data.csv**"
   ]
  },
  {
   "cell_type": "code",
   "execution_count": 220,
   "metadata": {
    "colab": {
     "base_uri": "https://localhost:8080/",
     "height": 421
    },
    "id": "cMQ8mdm04rN0",
    "outputId": "79a641fc-a53f-474d-edd4-351ac32a3d4b"
   },
   "outputs": [
    {
     "data": {
      "text/html": [
       "<div>\n",
       "<style scoped>\n",
       "    .dataframe tbody tr th:only-of-type {\n",
       "        vertical-align: middle;\n",
       "    }\n",
       "\n",
       "    .dataframe tbody tr th {\n",
       "        vertical-align: top;\n",
       "    }\n",
       "\n",
       "    .dataframe thead th {\n",
       "        text-align: right;\n",
       "    }\n",
       "</style>\n",
       "<table border=\"1\" class=\"dataframe\">\n",
       "  <thead>\n",
       "    <tr style=\"text-align: right;\">\n",
       "      <th></th>\n",
       "      <th>Unnamed: 0</th>\n",
       "      <th>Alternate</th>\n",
       "      <th>Bar</th>\n",
       "      <th>Friday</th>\n",
       "      <th>Hungry</th>\n",
       "      <th>Patrons</th>\n",
       "      <th>Price</th>\n",
       "      <th>Raining</th>\n",
       "      <th>Reservation</th>\n",
       "      <th>Type</th>\n",
       "      <th>WaitEstimate</th>\n",
       "      <th>Wait</th>\n",
       "    </tr>\n",
       "  </thead>\n",
       "  <tbody>\n",
       "    <tr>\n",
       "      <th>0</th>\n",
       "      <td>X1</td>\n",
       "      <td>T</td>\n",
       "      <td>F</td>\n",
       "      <td>F</td>\n",
       "      <td>T</td>\n",
       "      <td>Some</td>\n",
       "      <td>High</td>\n",
       "      <td>F</td>\n",
       "      <td>T</td>\n",
       "      <td>French</td>\n",
       "      <td>8</td>\n",
       "      <td>T</td>\n",
       "    </tr>\n",
       "    <tr>\n",
       "      <th>1</th>\n",
       "      <td>X2</td>\n",
       "      <td>T</td>\n",
       "      <td>F</td>\n",
       "      <td>F</td>\n",
       "      <td>T</td>\n",
       "      <td>Full</td>\n",
       "      <td>Low</td>\n",
       "      <td>F</td>\n",
       "      <td>F</td>\n",
       "      <td>Thai</td>\n",
       "      <td>40</td>\n",
       "      <td>F</td>\n",
       "    </tr>\n",
       "    <tr>\n",
       "      <th>2</th>\n",
       "      <td>X3</td>\n",
       "      <td>F</td>\n",
       "      <td>T</td>\n",
       "      <td>F</td>\n",
       "      <td>F</td>\n",
       "      <td>Some</td>\n",
       "      <td>Low</td>\n",
       "      <td>F</td>\n",
       "      <td>F</td>\n",
       "      <td>Burger</td>\n",
       "      <td>8</td>\n",
       "      <td>T</td>\n",
       "    </tr>\n",
       "    <tr>\n",
       "      <th>3</th>\n",
       "      <td>X4</td>\n",
       "      <td>T</td>\n",
       "      <td>F</td>\n",
       "      <td>T</td>\n",
       "      <td>T</td>\n",
       "      <td>Full</td>\n",
       "      <td>Low</td>\n",
       "      <td>F</td>\n",
       "      <td>F</td>\n",
       "      <td>Thai</td>\n",
       "      <td>12</td>\n",
       "      <td>T</td>\n",
       "    </tr>\n",
       "    <tr>\n",
       "      <th>4</th>\n",
       "      <td>X5</td>\n",
       "      <td>T</td>\n",
       "      <td>F</td>\n",
       "      <td>T</td>\n",
       "      <td>F</td>\n",
       "      <td>Full</td>\n",
       "      <td>High</td>\n",
       "      <td>F</td>\n",
       "      <td>T</td>\n",
       "      <td>French</td>\n",
       "      <td>70</td>\n",
       "      <td>F</td>\n",
       "    </tr>\n",
       "    <tr>\n",
       "      <th>5</th>\n",
       "      <td>X6</td>\n",
       "      <td>F</td>\n",
       "      <td>T</td>\n",
       "      <td>F</td>\n",
       "      <td>T</td>\n",
       "      <td>Some</td>\n",
       "      <td>Medium</td>\n",
       "      <td>T</td>\n",
       "      <td>T</td>\n",
       "      <td>Italian</td>\n",
       "      <td>3</td>\n",
       "      <td>T</td>\n",
       "    </tr>\n",
       "    <tr>\n",
       "      <th>6</th>\n",
       "      <td>X7</td>\n",
       "      <td>F</td>\n",
       "      <td>T</td>\n",
       "      <td>F</td>\n",
       "      <td>F</td>\n",
       "      <td>None</td>\n",
       "      <td>Low</td>\n",
       "      <td>T</td>\n",
       "      <td>F</td>\n",
       "      <td>Burger</td>\n",
       "      <td>7</td>\n",
       "      <td>F</td>\n",
       "    </tr>\n",
       "    <tr>\n",
       "      <th>7</th>\n",
       "      <td>X8</td>\n",
       "      <td>F</td>\n",
       "      <td>F</td>\n",
       "      <td>F</td>\n",
       "      <td>T</td>\n",
       "      <td>Some</td>\n",
       "      <td>Medium</td>\n",
       "      <td>T</td>\n",
       "      <td>T</td>\n",
       "      <td>Thai</td>\n",
       "      <td>6</td>\n",
       "      <td>T</td>\n",
       "    </tr>\n",
       "    <tr>\n",
       "      <th>8</th>\n",
       "      <td>X9</td>\n",
       "      <td>F</td>\n",
       "      <td>T</td>\n",
       "      <td>T</td>\n",
       "      <td>F</td>\n",
       "      <td>Full</td>\n",
       "      <td>Low</td>\n",
       "      <td>T</td>\n",
       "      <td>F</td>\n",
       "      <td>Burger</td>\n",
       "      <td>80</td>\n",
       "      <td>F</td>\n",
       "    </tr>\n",
       "    <tr>\n",
       "      <th>9</th>\n",
       "      <td>X10</td>\n",
       "      <td>T</td>\n",
       "      <td>T</td>\n",
       "      <td>T</td>\n",
       "      <td>T</td>\n",
       "      <td>Full</td>\n",
       "      <td>High</td>\n",
       "      <td>F</td>\n",
       "      <td>T</td>\n",
       "      <td>Italian</td>\n",
       "      <td>20</td>\n",
       "      <td>F</td>\n",
       "    </tr>\n",
       "    <tr>\n",
       "      <th>10</th>\n",
       "      <td>X11</td>\n",
       "      <td>F</td>\n",
       "      <td>F</td>\n",
       "      <td>F</td>\n",
       "      <td>F</td>\n",
       "      <td>None</td>\n",
       "      <td>Low</td>\n",
       "      <td>F</td>\n",
       "      <td>F</td>\n",
       "      <td>Thai</td>\n",
       "      <td>8</td>\n",
       "      <td>F</td>\n",
       "    </tr>\n",
       "    <tr>\n",
       "      <th>11</th>\n",
       "      <td>X12</td>\n",
       "      <td>T</td>\n",
       "      <td>T</td>\n",
       "      <td>T</td>\n",
       "      <td>T</td>\n",
       "      <td>Full</td>\n",
       "      <td>Low</td>\n",
       "      <td>F</td>\n",
       "      <td>F</td>\n",
       "      <td>Burger</td>\n",
       "      <td>40</td>\n",
       "      <td>T</td>\n",
       "    </tr>\n",
       "  </tbody>\n",
       "</table>\n",
       "</div>"
      ],
      "text/plain": [
       "   Unnamed: 0 Alternate Bar Friday Hungry Patrons   Price Raining Reservation  \\\n",
       "0          X1         T   F      F      T    Some    High       F           T   \n",
       "1          X2         T   F      F      T    Full     Low       F           F   \n",
       "2          X3         F   T      F      F    Some     Low       F           F   \n",
       "3          X4         T   F      T      T    Full     Low       F           F   \n",
       "4          X5         T   F      T      F    Full    High       F           T   \n",
       "5          X6         F   T      F      T    Some  Medium       T           T   \n",
       "6          X7         F   T      F      F    None     Low       T           F   \n",
       "7          X8         F   F      F      T    Some  Medium       T           T   \n",
       "8          X9         F   T      T      F    Full     Low       T           F   \n",
       "9         X10         T   T      T      T    Full    High       F           T   \n",
       "10        X11         F   F      F      F    None     Low       F           F   \n",
       "11        X12         T   T      T      T    Full     Low       F           F   \n",
       "\n",
       "       Type  WaitEstimate Wait  \n",
       "0    French             8    T  \n",
       "1      Thai            40    F  \n",
       "2    Burger             8    T  \n",
       "3      Thai            12    T  \n",
       "4    French            70    F  \n",
       "5   Italian             3    T  \n",
       "6    Burger             7    F  \n",
       "7      Thai             6    T  \n",
       "8    Burger            80    F  \n",
       "9   Italian            20    F  \n",
       "10     Thai             8    F  \n",
       "11   Burger            40    T  "
      ]
     },
     "execution_count": 220,
     "metadata": {},
     "output_type": "execute_result"
    }
   ],
   "source": [
    "example = pd.read_csv('https://raw.githubusercontent.com/aubreyyy24/HW2_data/main/data.csv')\n",
    "example"
   ]
  },
  {
   "cell_type": "code",
   "execution_count": 221,
   "metadata": {
    "id": "3Kzf-VIW50wi"
   },
   "outputs": [],
   "source": [
    "example = example.drop(['Unnamed: 0'], axis=1)"
   ]
  },
  {
   "cell_type": "code",
   "execution_count": 222,
   "metadata": {
    "colab": {
     "base_uri": "https://localhost:8080/",
     "height": 421
    },
    "id": "2VZ0rIII1YEV",
    "outputId": "e30f2d11-875c-4288-ea58-f567981b695d"
   },
   "outputs": [
    {
     "data": {
      "text/html": [
       "<div>\n",
       "<style scoped>\n",
       "    .dataframe tbody tr th:only-of-type {\n",
       "        vertical-align: middle;\n",
       "    }\n",
       "\n",
       "    .dataframe tbody tr th {\n",
       "        vertical-align: top;\n",
       "    }\n",
       "\n",
       "    .dataframe thead th {\n",
       "        text-align: right;\n",
       "    }\n",
       "</style>\n",
       "<table border=\"1\" class=\"dataframe\">\n",
       "  <thead>\n",
       "    <tr style=\"text-align: right;\">\n",
       "      <th></th>\n",
       "      <th>Alternate</th>\n",
       "      <th>Bar</th>\n",
       "      <th>Friday</th>\n",
       "      <th>Hungry</th>\n",
       "      <th>Patrons</th>\n",
       "      <th>Price</th>\n",
       "      <th>Raining</th>\n",
       "      <th>Reservation</th>\n",
       "      <th>Type</th>\n",
       "      <th>WaitEstimate</th>\n",
       "      <th>Wait</th>\n",
       "    </tr>\n",
       "  </thead>\n",
       "  <tbody>\n",
       "    <tr>\n",
       "      <th>0</th>\n",
       "      <td>1</td>\n",
       "      <td>0</td>\n",
       "      <td>0</td>\n",
       "      <td>1</td>\n",
       "      <td>2</td>\n",
       "      <td>0</td>\n",
       "      <td>0</td>\n",
       "      <td>1</td>\n",
       "      <td>1</td>\n",
       "      <td>8</td>\n",
       "      <td>T</td>\n",
       "    </tr>\n",
       "    <tr>\n",
       "      <th>1</th>\n",
       "      <td>1</td>\n",
       "      <td>0</td>\n",
       "      <td>0</td>\n",
       "      <td>1</td>\n",
       "      <td>0</td>\n",
       "      <td>1</td>\n",
       "      <td>0</td>\n",
       "      <td>0</td>\n",
       "      <td>3</td>\n",
       "      <td>40</td>\n",
       "      <td>F</td>\n",
       "    </tr>\n",
       "    <tr>\n",
       "      <th>2</th>\n",
       "      <td>0</td>\n",
       "      <td>1</td>\n",
       "      <td>0</td>\n",
       "      <td>0</td>\n",
       "      <td>2</td>\n",
       "      <td>1</td>\n",
       "      <td>0</td>\n",
       "      <td>0</td>\n",
       "      <td>0</td>\n",
       "      <td>8</td>\n",
       "      <td>T</td>\n",
       "    </tr>\n",
       "    <tr>\n",
       "      <th>3</th>\n",
       "      <td>1</td>\n",
       "      <td>0</td>\n",
       "      <td>1</td>\n",
       "      <td>1</td>\n",
       "      <td>0</td>\n",
       "      <td>1</td>\n",
       "      <td>0</td>\n",
       "      <td>0</td>\n",
       "      <td>3</td>\n",
       "      <td>12</td>\n",
       "      <td>T</td>\n",
       "    </tr>\n",
       "    <tr>\n",
       "      <th>4</th>\n",
       "      <td>1</td>\n",
       "      <td>0</td>\n",
       "      <td>1</td>\n",
       "      <td>0</td>\n",
       "      <td>0</td>\n",
       "      <td>0</td>\n",
       "      <td>0</td>\n",
       "      <td>1</td>\n",
       "      <td>1</td>\n",
       "      <td>70</td>\n",
       "      <td>F</td>\n",
       "    </tr>\n",
       "    <tr>\n",
       "      <th>5</th>\n",
       "      <td>0</td>\n",
       "      <td>1</td>\n",
       "      <td>0</td>\n",
       "      <td>1</td>\n",
       "      <td>2</td>\n",
       "      <td>2</td>\n",
       "      <td>1</td>\n",
       "      <td>1</td>\n",
       "      <td>2</td>\n",
       "      <td>3</td>\n",
       "      <td>T</td>\n",
       "    </tr>\n",
       "    <tr>\n",
       "      <th>6</th>\n",
       "      <td>0</td>\n",
       "      <td>1</td>\n",
       "      <td>0</td>\n",
       "      <td>0</td>\n",
       "      <td>1</td>\n",
       "      <td>1</td>\n",
       "      <td>1</td>\n",
       "      <td>0</td>\n",
       "      <td>0</td>\n",
       "      <td>7</td>\n",
       "      <td>F</td>\n",
       "    </tr>\n",
       "    <tr>\n",
       "      <th>7</th>\n",
       "      <td>0</td>\n",
       "      <td>0</td>\n",
       "      <td>0</td>\n",
       "      <td>1</td>\n",
       "      <td>2</td>\n",
       "      <td>2</td>\n",
       "      <td>1</td>\n",
       "      <td>1</td>\n",
       "      <td>3</td>\n",
       "      <td>6</td>\n",
       "      <td>T</td>\n",
       "    </tr>\n",
       "    <tr>\n",
       "      <th>8</th>\n",
       "      <td>0</td>\n",
       "      <td>1</td>\n",
       "      <td>1</td>\n",
       "      <td>0</td>\n",
       "      <td>0</td>\n",
       "      <td>1</td>\n",
       "      <td>1</td>\n",
       "      <td>0</td>\n",
       "      <td>0</td>\n",
       "      <td>80</td>\n",
       "      <td>F</td>\n",
       "    </tr>\n",
       "    <tr>\n",
       "      <th>9</th>\n",
       "      <td>1</td>\n",
       "      <td>1</td>\n",
       "      <td>1</td>\n",
       "      <td>1</td>\n",
       "      <td>0</td>\n",
       "      <td>0</td>\n",
       "      <td>0</td>\n",
       "      <td>1</td>\n",
       "      <td>2</td>\n",
       "      <td>20</td>\n",
       "      <td>F</td>\n",
       "    </tr>\n",
       "    <tr>\n",
       "      <th>10</th>\n",
       "      <td>0</td>\n",
       "      <td>0</td>\n",
       "      <td>0</td>\n",
       "      <td>0</td>\n",
       "      <td>1</td>\n",
       "      <td>1</td>\n",
       "      <td>0</td>\n",
       "      <td>0</td>\n",
       "      <td>3</td>\n",
       "      <td>8</td>\n",
       "      <td>F</td>\n",
       "    </tr>\n",
       "    <tr>\n",
       "      <th>11</th>\n",
       "      <td>1</td>\n",
       "      <td>1</td>\n",
       "      <td>1</td>\n",
       "      <td>1</td>\n",
       "      <td>0</td>\n",
       "      <td>1</td>\n",
       "      <td>0</td>\n",
       "      <td>0</td>\n",
       "      <td>0</td>\n",
       "      <td>40</td>\n",
       "      <td>T</td>\n",
       "    </tr>\n",
       "  </tbody>\n",
       "</table>\n",
       "</div>"
      ],
      "text/plain": [
       "    Alternate  Bar  Friday  Hungry  Patrons  Price  Raining  Reservation  \\\n",
       "0           1    0       0       1        2      0        0            1   \n",
       "1           1    0       0       1        0      1        0            0   \n",
       "2           0    1       0       0        2      1        0            0   \n",
       "3           1    0       1       1        0      1        0            0   \n",
       "4           1    0       1       0        0      0        0            1   \n",
       "5           0    1       0       1        2      2        1            1   \n",
       "6           0    1       0       0        1      1        1            0   \n",
       "7           0    0       0       1        2      2        1            1   \n",
       "8           0    1       1       0        0      1        1            0   \n",
       "9           1    1       1       1        0      0        0            1   \n",
       "10          0    0       0       0        1      1        0            0   \n",
       "11          1    1       1       1        0      1        0            0   \n",
       "\n",
       "    Type  WaitEstimate Wait  \n",
       "0      1             8    T  \n",
       "1      3            40    F  \n",
       "2      0             8    T  \n",
       "3      3            12    T  \n",
       "4      1            70    F  \n",
       "5      2             3    T  \n",
       "6      0             7    F  \n",
       "7      3             6    T  \n",
       "8      0            80    F  \n",
       "9      2            20    F  \n",
       "10     3             8    F  \n",
       "11     0            40    T  "
      ]
     },
     "execution_count": 222,
     "metadata": {},
     "output_type": "execute_result"
    }
   ],
   "source": [
    "# change the string categorical to integer labels\n",
    "from sklearn.preprocessing import LabelEncoder\n",
    "labelencoder = LabelEncoder()\n",
    "\n",
    "example['Alternate'] = labelencoder.fit_transform(example['Alternate'])\n",
    "example['Bar'] = labelencoder.fit_transform(example['Bar'])\n",
    "example['Friday'] = labelencoder.fit_transform(example['Friday'])\n",
    "example['Hungry'] = labelencoder.fit_transform(example['Hungry'])\n",
    "example['Patrons'] = labelencoder.fit_transform(example['Patrons'])\n",
    "example['Price'] = labelencoder.fit_transform(example['Price'])\n",
    "example['Raining'] = labelencoder.fit_transform(example['Raining'])\n",
    "example['Reservation'] = labelencoder.fit_transform(example['Reservation'])\n",
    "example['Type'] = labelencoder.fit_transform(example['Type'])\n",
    "\n",
    "example"
   ]
  },
  {
   "cell_type": "markdown",
   "metadata": {
    "id": "v3c8J0ABQ7v0"
   },
   "source": [
    "## Calculating the Entropy *(20%)*\n"
   ]
  },
  {
   "cell_type": "code",
   "execution_count": 223,
   "metadata": {
    "id": "WyGQn_XJnyoc"
   },
   "outputs": [],
   "source": [
    "# split the data by given attribute and its threshold\n",
    "def partition(data, column, threshold):\n",
    "    \"\"\"\n",
    "      The *partition* function will split the input data into 2 branches.\n",
    "        args:\n",
    "        *   data(DataFrame): the input data\n",
    "        *   column(str): the attribute(column name)\n",
    "        *   threshold(float): the column's threshold for splitting the data\n",
    "        returns:\n",
    "        *   match_branch(DataFrame): the divided data that matches the assigned column's threshold\n",
    "        *   false_branch(DataFrame): the divided data that doesn't match the assigned column's threshold\n",
    "    \"\"\"\n",
    "    matchBranch = data[data[column]<=threshold]\n",
    "    falseBranch = data[data[column]>threshold]\n",
    "    return matchBranch, falseBranch"
   ]
  },
  {
   "cell_type": "markdown",
   "metadata": {
    "id": "bEzlw4y5AK-7"
   },
   "source": [
    "If we try *partition(example, 'Patrons', 1.5)*:\n",
    "\n",
    "split example to \n",
    "\n",
    "match_left(Patrons<= 1.5) (Patrons != Some) and  \n",
    "false_right(Patrons > 1.5) (Patrons == Some)\n",
    "\n",
    "column: Patrons, threshold: 1.5\n",
    "\n"
   ]
  },
  {
   "cell_type": "code",
   "execution_count": 224,
   "metadata": {
    "colab": {
     "base_uri": "https://localhost:8080/",
     "height": 238
    },
    "id": "h-5MqfHcJ2Id",
    "outputId": "c6425c87-a935-4f55-8510-90dc05769987"
   },
   "outputs": [],
   "source": [
    "match_left, false_right = partition(example, 'Patrons', 1.5)"
   ]
  },
  {
   "cell_type": "code",
   "execution_count": 225,
   "metadata": {
    "id": "svjMYA_6VmoN"
   },
   "outputs": [],
   "source": [
    "def entropy(data):\n",
    "    \"\"\"\n",
    "      The *entropy* function will calculate the entropy of the node(data)\n",
    "      args:\n",
    "      *    data(DataFrame): the data you're calculating for the entropy\n",
    "      output:\n",
    "      *    entropy(float): the node(data)'s entropy     \n",
    "    \"\"\"\n",
    "    if data.shape[0]==0:\n",
    "        return 0\n",
    "    numCorrect = 0\n",
    "    numNotCorrect = 0\n",
    "    for index, row in data.iterrows():\n",
    "        if row['Wait']=='T':\n",
    "            numCorrect=numCorrect+1\n",
    "        else:\n",
    "            numNotCorrect=numNotCorrect+1\n",
    "    total = numCorrect+numNotCorrect\n",
    "    p = numCorrect / total\n",
    "    if p==1 or p==0:\n",
    "        return 0\n",
    "    entropy = -p*np.log2(p)-(1-p)*np.log2(1-p)\n",
    "    return entropy"
   ]
  },
  {
   "cell_type": "markdown",
   "metadata": {
    "id": "yBvTDwJwfVY7"
   },
   "source": [
    "An example of the output from entropy (Use this to check if your output is correct): "
   ]
  },
  {
   "cell_type": "code",
   "execution_count": 226,
   "metadata": {
    "colab": {
     "base_uri": "https://localhost:8080/"
    },
    "id": "N_5y1Bz3lx2g",
    "outputId": "9a36d742-be7e-4d7f-adcc-4268f6a0a217"
   },
   "outputs": [
    {
     "name": "stdout",
     "output_type": "stream",
     "text": [
      "(12, 11)\n",
      "0.7219280948873623\n"
     ]
    }
   ],
   "source": [
    "print(example.shape)\n",
    "match, false = partition(example, 'Hungry', 0.5)\n",
    "entropy1 = entropy(match)\n",
    "print(entropy1)"
   ]
  },
  {
   "cell_type": "code",
   "execution_count": 227,
   "metadata": {
    "id": "69Vj7RELq7eF"
   },
   "outputs": [],
   "source": [
    "#implementation 1: calculate the entropy of 'false_right' data\n",
    "ans_entropy = entropy(false)"
   ]
  },
  {
   "cell_type": "markdown",
   "metadata": {
    "id": "mR4wP6nOVOUE"
   },
   "source": [
    "## Find the Best Split *(20%)*"
   ]
  },
  {
   "cell_type": "code",
   "execution_count": 228,
   "metadata": {
    "id": "PVcFND4BG4Zx"
   },
   "outputs": [],
   "source": [
    "# search for the best attribute and the value(threshold) to split the data\n",
    "def findBestSplit(data):\n",
    "    \"\"\"\n",
    "    The *findBestSplit* function finds the best combination of attribute and value(with the largest reduction in entropy) to split the data.\n",
    "    args:\n",
    "    *   data(DataFrame): the data you try to split(build the decision tree)\n",
    "    output:\n",
    "    *   column_best(str): the attribute(column) split with the largest reduction in entropy\n",
    "    *   value_best(float): the value(threshold) of the column_best attribute to split the data\n",
    "    \"\"\"\n",
    "    all_entropy = 9999        #the overall entropy : save the value of the smallest entropy\n",
    "    column_best = 0\n",
    "    value_best = 0\n",
    "    cols = data.columns\n",
    "    \n",
    "    for col in cols:\n",
    "        if col == 'Wait':\n",
    "            break;\n",
    "            \n",
    "        st = []\n",
    "        for index, row in data.iterrows():\n",
    "            st.append(row[col])\n",
    "        \n",
    "        st = sorted(st)\n",
    "        mls = list(st)\n",
    "        mls = np.unique(mls)\n",
    "        n = len(mls)\n",
    "        \n",
    "        Thresholds = []\n",
    "        \n",
    "        for i in range(1,n):\n",
    "            md = (mls[i]+mls[i-1])/2\n",
    "            Thresholds.append(float(md))\n",
    "        \n",
    "        for threshold in Thresholds:\n",
    "            match, false = partition(data,col,threshold)\n",
    "            entropyP = entropy(match)\n",
    "            entropyN = entropy(false)\n",
    "            p = match.shape[0]\n",
    "            n = false.shape[0]\n",
    "            curEntropy = p/(n+p) * entropyP + n/(n+p) * entropyN   \n",
    "            if all_entropy > curEntropy:\n",
    "                all_entropy = curEntropy\n",
    "                column_best = col\n",
    "                value_best = threshold\n",
    "    return column_best, value_best"
   ]
  },
  {
   "cell_type": "markdown",
   "metadata": {
    "id": "H73vwEBPfB67"
   },
   "source": [
    "An example of the output from findBestSplit (Use this to check if your output is correct):"
   ]
  },
  {
   "cell_type": "code",
   "execution_count": 230,
   "metadata": {
    "colab": {
     "base_uri": "https://localhost:8080/"
    },
    "id": "2y9_0MwR9IgH",
    "outputId": "fd2dcad8-01a1-47ee-aecf-b0da34b46541"
   },
   "outputs": [
    {
     "name": "stdout",
     "output_type": "stream",
     "text": [
      "    Alternate  Bar  Friday  Hungry  Patrons  Price  Raining  Reservation  \\\n",
      "0           1    0       0       1        2      0        0            1   \n",
      "1           1    0       0       1        0      1        0            0   \n",
      "2           0    1       0       0        2      1        0            0   \n",
      "3           1    0       1       1        0      1        0            0   \n",
      "4           1    0       1       0        0      0        0            1   \n",
      "5           0    1       0       1        2      2        1            1   \n",
      "6           0    1       0       0        1      1        1            0   \n",
      "7           0    0       0       1        2      2        1            1   \n",
      "8           0    1       1       0        0      1        1            0   \n",
      "9           1    1       1       1        0      0        0            1   \n",
      "10          0    0       0       0        1      1        0            0   \n",
      "11          1    1       1       1        0      1        0            0   \n",
      "\n",
      "    Type  WaitEstimate Wait  \n",
      "0      1             8    T  \n",
      "1      3            40    F  \n",
      "2      0             8    T  \n",
      "3      3            12    T  \n",
      "4      1            70    F  \n",
      "5      2             3    T  \n",
      "6      0             7    F  \n",
      "7      3             6    T  \n",
      "8      0            80    F  \n",
      "9      2            20    F  \n",
      "10     3             8    F  \n",
      "11     0            40    T  \n",
      "for col:  Patrons\n",
      "for value:  1.5\n"
     ]
    }
   ],
   "source": [
    "print(example)\n",
    "column_best, value_best = findBestSplit(example)\n",
    "print('for col: ',column_best)\n",
    "print('for value: ',value_best)"
   ]
  },
  {
   "cell_type": "code",
   "execution_count": 231,
   "metadata": {
    "id": "NNcKR6tf12hn"
   },
   "outputs": [
    {
     "name": "stdout",
     "output_type": "stream",
     "text": [
      "for col:  WaitEstimate\n",
      "for value:  16.0\n"
     ]
    }
   ],
   "source": [
    "#implementation 2: Find the best split of the 'match' data\n",
    "ans_column, ans_value = findBestSplit(false)\n",
    "print('for col: ',ans_column)\n",
    "print('for value: ',ans_value)"
   ]
  },
  {
   "cell_type": "markdown",
   "metadata": {
    "id": "hD31mGJuVbAx"
   },
   "source": [
    "## Decision Tree Building *(30%)*\n",
    "\n",
    "Use the above functions to help building the decision tree\n",
    "\n",
    "\n",
    "\n"
   ]
  },
  {
   "cell_type": "code",
   "execution_count": 232,
   "metadata": {
    "id": "1PHuRhmoIdnV"
   },
   "outputs": [],
   "source": [
    "def buildTree(data, depth):\n",
    "    \"\"\"\n",
    "      The *buildTree* function builds the decision tree\n",
    "      args:\n",
    "      *     df(DataFrame): the data you want to apply the decision tree\n",
    "      *     depth(int) : the depth of your tree\n",
    "      output:\n",
    "      *     decisionSubTree(dict): the decision tree structure including root, branch, leaf(with the attributes and thresholds)\n",
    "      *     features(list): the features(attributes) name in the decision tree structure(from root to branch and leaf)\n",
    "        *     thresholds(list): the corresponding thresholds for the features in the 'features' list\n",
    "    \"\"\"\n",
    "    print(data.shape[0])\n",
    "    \n",
    "    column_best, value_best = findBestSplit(data)\n",
    "    features = []\n",
    "    thresholds = []\n",
    "    features.append(column_best)\n",
    "    thresholds.append(value_best)\n",
    "    \n",
    "    numT=0\n",
    "    numN=0\n",
    "    for index, row in data.iterrows():\n",
    "        if row['Wait']=='T':\n",
    "            numT=numT+1\n",
    "        else:\n",
    "            numN=numN+1\n",
    "    if numT == data.shape[0]:\n",
    "        return 'T',[],[]\n",
    "    if numN == data.shape[0]:\n",
    "        return 'F',[],[]\n",
    "    if depth==1:\n",
    "        if numT>numN:\n",
    "            return 'T',[],[]\n",
    "        else: return 'F',[],[]\n",
    "    \n",
    "    \n",
    "    match_left, false_right = partition(data, column_best, value_best)\n",
    "    \n",
    "    lTree, lFeatures, lThresholds = buildTree(match_left ,depth-1)\n",
    "    rTree, rFeatures, rThresholds = buildTree(false_right,depth-1)\n",
    "    #features.append(lFeatures)\n",
    "    #features.append(rFeatures)\n",
    "    #thresholds.append(lThresholds)\n",
    "    #thresholds.append(rThresholds)\n",
    "    features = features + lFeatures + rFeatures\n",
    "    thresholds = thresholds + lThresholds + rThresholds\n",
    "    decisionSubTree = [column_best,value_best,lTree,rTree]\n",
    "    return decisionSubTree, features, thresholds"
   ]
  },
  {
   "cell_type": "markdown",
   "metadata": {
    "id": "RlmycuRYeo4E"
   },
   "source": [
    "An example of the output from buildTree (Use this to check if your output is correct): "
   ]
  },
  {
   "cell_type": "code",
   "execution_count": 233,
   "metadata": {
    "colab": {
     "base_uri": "https://localhost:8080/"
    },
    "id": "HwaWdJ2KaFnz",
    "outputId": "f1206915-1bf7-41f3-c904-d1dd91975721"
   },
   "outputs": [
    {
     "name": "stdout",
     "output_type": "stream",
     "text": [
      "12\n",
      "8\n",
      "4\n",
      "['Patrons', 1.5, 'F', 'T']\n",
      "['Patrons']\n",
      "[1.5]\n"
     ]
    }
   ],
   "source": [
    "tree, features, thresholds= buildTree(example, 2)\n",
    "print(tree)\n",
    "print(features)\n",
    "print(thresholds)"
   ]
  },
  {
   "cell_type": "code",
   "execution_count": 234,
   "metadata": {
    "id": "S7LcV0jwrvGW"
   },
   "outputs": [
    {
     "name": "stdout",
     "output_type": "stream",
     "text": [
      "12\n",
      "8\n",
      "4\n",
      "4\n",
      "1\n",
      "3\n",
      "1\n",
      "2\n",
      "4\n",
      "['Patrons', 1.5, ['Hungry', 0.5, 'F', ['Friday', 0.5, 'F', ['Price', 0.5, 'F', 'T']]], 'T']\n",
      "['Patrons', 'Hungry', 'Friday', 'Price']\n",
      "[1.5, 0.5, 0.5, 0.5]\n"
     ]
    }
   ],
   "source": [
    "#implementation 3: decision tree building (depth=10)\n",
    "ans_tree, ans_features, ans_thresholds = buildTree(example,10)\n",
    "\n",
    "print(ans_tree)\n",
    "print(ans_features)\n",
    "print(ans_thresholds)"
   ]
  },
  {
   "cell_type": "code",
   "execution_count": 235,
   "metadata": {
    "id": "oz_UrVDQr0ZO"
   },
   "outputs": [
    {
     "name": "stdout",
     "output_type": "stream",
     "text": [
      "[0.863120568566631, 'WaitEstimate', 16.0, 'Patrons', 'Hungry', 'Friday', 'Price', 1.5, 0.5, 0.5, 0.5]\n"
     ]
    }
   ],
   "source": [
    "#save implementation csv\n",
    "ans_path = STUDENT_ID + '_implementation.csv'\n",
    "\n",
    "imp = []\n",
    "imp.append(ans_entropy)\n",
    "imp.append(ans_column)\n",
    "imp.append(ans_value)\n",
    "for i in range(len(ans_features)):\n",
    "  imp.append(ans_features[i])\n",
    "for m in range(len(ans_thresholds)):\n",
    "  imp.append(ans_thresholds[m])\n",
    "print(imp)\n",
    "pd.DataFrame(imp).to_csv(ans_path, header = None, index = None)"
   ]
  },
  {
   "cell_type": "markdown",
   "metadata": {
    "id": "tniHsNdk6vH5"
   },
   "source": [
    "# **2. Classification with the MIMIC Dataset**\n",
    "In the second part, you need to classify **'hospDIED'(death)** in the MIMIC dataset.\n",
    "\n",
    "Please put the classification result in a csv file. (**[STUDENTID]_prediction.csv**)\n",
    "\n",
    "**Note:** Decision tree is recommended but not mandatory."
   ]
  },
  {
   "cell_type": "markdown",
   "metadata": {
    "id": "yr3B7qWCW6mX"
   },
   "source": [
    "## Prediction (Performance) *(20%)*\n",
    "\n",
    "The **y_test** (hospDIED) of this data is hidden, you need to use the x_test.csv to predict the y_test.\n",
    "\n",
    "**Note:** You **can** now import the packages you need here!"
   ]
  },
  {
   "cell_type": "markdown",
   "metadata": {
    "id": "luEGVyG44_Xe"
   },
   "source": [
    "Get the MIMIC data here!\n",
    "\n",
    "Data Description: \n",
    "\n",
    "[Data Description](https://docs.google.com/spreadsheets/d/1pxqxQFhIcv_hrgWEtwhXE6zBVQ5ISa-13PIhvXMtWCY/edit?usp=sharing) (You can find the data description here.)\n",
    "\n",
    "**Note:**\n",
    "*   You can select the features you want to use.\n",
    "*   You can use any ML models to predict the y_test.\n",
    "\n",
    "  (However, there is a 10% bonus if you **visualize** the decision tree in this part)\n",
    "\n",
    "\n",
    "[ref]: *Johnson, A. E. W., Pollard, T. J., Shen, L., Lehman, L. H., Feng, M., Ghassemi, M., Moody, B., Szolovits, P., Celi, L. A., & Mark, R. G. (2016). MIMIC-III, a freely accessible critical care database. Scientific Data, 3, 160035.*\n",
    "\n"
   ]
  },
  {
   "cell_type": "code",
   "execution_count": 237,
   "metadata": {
    "colab": {
     "base_uri": "https://localhost:8080/",
     "height": 270
    },
    "id": "COe36S4wc-_x",
    "outputId": "2e07ee1f-9dc7-412e-9dd8-de36369b601d"
   },
   "outputs": [],
   "source": [
    "# inline plotting instead of popping out\n",
    "%matplotlib inline\n",
    "\n",
    "import os\n",
    "from IPython.display import display\n",
    "\n",
    "import numpy as np\n",
    "import pandas as pd \n",
    "import matplotlib.pyplot as plt\n",
    "from matplotlib.colors import ListedColormap\n",
    "\n",
    "from sklearn.datasets import load_wine, load_breast_cancer\n",
    "from sklearn.ensemble import RandomForestClassifier\n",
    "from sklearn.feature_selection import SelectFromModel\n",
    "from sklearn.metrics import accuracy_score\n",
    "from sklearn.model_selection import train_test_split\n",
    "from sklearn.tree import DecisionTreeClassifier, export_graphviz"
   ]
  },
  {
   "cell_type": "markdown",
   "metadata": {
    "id": "N2nP69qKhFsB"
   },
   "source": [
    "Complete your model with validation:"
   ]
  },
  {
   "cell_type": "code",
   "execution_count": 247,
   "metadata": {
    "id": "nUcloPGehlTp"
   },
   "outputs": [
    {
     "data": {
      "text/html": [
       "<div>\n",
       "<style scoped>\n",
       "    .dataframe tbody tr th:only-of-type {\n",
       "        vertical-align: middle;\n",
       "    }\n",
       "\n",
       "    .dataframe tbody tr th {\n",
       "        vertical-align: top;\n",
       "    }\n",
       "\n",
       "    .dataframe thead th {\n",
       "        text-align: right;\n",
       "    }\n",
       "</style>\n",
       "<table border=\"1\" class=\"dataframe\">\n",
       "  <thead>\n",
       "    <tr style=\"text-align: right;\">\n",
       "      <th></th>\n",
       "      <th>subject_id</th>\n",
       "      <th>age</th>\n",
       "      <th>los</th>\n",
       "      <th>CA</th>\n",
       "      <th>DNR</th>\n",
       "      <th>CMO</th>\n",
       "      <th>DNI</th>\n",
       "      <th>female</th>\n",
       "      <th>first_careunit</th>\n",
       "      <th>insurance</th>\n",
       "      <th>...</th>\n",
       "      <th>Enlarged Cardiomediastinum</th>\n",
       "      <th>Fracture</th>\n",
       "      <th>Lung Lesion</th>\n",
       "      <th>Lung Opacity</th>\n",
       "      <th>No Finding</th>\n",
       "      <th>Pleural Effusion</th>\n",
       "      <th>Pleural Other</th>\n",
       "      <th>Pneumonia</th>\n",
       "      <th>Pneumothorax</th>\n",
       "      <th>Support Devices</th>\n",
       "    </tr>\n",
       "  </thead>\n",
       "  <tbody>\n",
       "    <tr>\n",
       "      <th>0</th>\n",
       "      <td>10246985</td>\n",
       "      <td>48</td>\n",
       "      <td>1.826250</td>\n",
       "      <td>0</td>\n",
       "      <td>0</td>\n",
       "      <td>0</td>\n",
       "      <td>0</td>\n",
       "      <td>1</td>\n",
       "      <td>10</td>\n",
       "      <td>1</td>\n",
       "      <td>...</td>\n",
       "      <td>2</td>\n",
       "      <td>9</td>\n",
       "      <td>9</td>\n",
       "      <td>9</td>\n",
       "      <td>9</td>\n",
       "      <td>0</td>\n",
       "      <td>9</td>\n",
       "      <td>9</td>\n",
       "      <td>0</td>\n",
       "      <td>9</td>\n",
       "    </tr>\n",
       "    <tr>\n",
       "      <th>1</th>\n",
       "      <td>14538806</td>\n",
       "      <td>59</td>\n",
       "      <td>10.581123</td>\n",
       "      <td>0</td>\n",
       "      <td>0</td>\n",
       "      <td>0</td>\n",
       "      <td>0</td>\n",
       "      <td>1</td>\n",
       "      <td>10</td>\n",
       "      <td>1</td>\n",
       "      <td>...</td>\n",
       "      <td>4</td>\n",
       "      <td>4</td>\n",
       "      <td>4</td>\n",
       "      <td>4</td>\n",
       "      <td>4</td>\n",
       "      <td>4</td>\n",
       "      <td>4</td>\n",
       "      <td>4</td>\n",
       "      <td>4</td>\n",
       "      <td>4</td>\n",
       "    </tr>\n",
       "    <tr>\n",
       "      <th>2</th>\n",
       "      <td>12850130</td>\n",
       "      <td>73</td>\n",
       "      <td>2.065255</td>\n",
       "      <td>0</td>\n",
       "      <td>0</td>\n",
       "      <td>0</td>\n",
       "      <td>0</td>\n",
       "      <td>1</td>\n",
       "      <td>4</td>\n",
       "      <td>1</td>\n",
       "      <td>...</td>\n",
       "      <td>4</td>\n",
       "      <td>4</td>\n",
       "      <td>4</td>\n",
       "      <td>4</td>\n",
       "      <td>4</td>\n",
       "      <td>4</td>\n",
       "      <td>4</td>\n",
       "      <td>4</td>\n",
       "      <td>4</td>\n",
       "      <td>4</td>\n",
       "    </tr>\n",
       "    <tr>\n",
       "      <th>3</th>\n",
       "      <td>11810761</td>\n",
       "      <td>84</td>\n",
       "      <td>1.435428</td>\n",
       "      <td>0</td>\n",
       "      <td>0</td>\n",
       "      <td>0</td>\n",
       "      <td>0</td>\n",
       "      <td>1</td>\n",
       "      <td>10</td>\n",
       "      <td>3</td>\n",
       "      <td>...</td>\n",
       "      <td>0</td>\n",
       "      <td>9</td>\n",
       "      <td>9</td>\n",
       "      <td>0</td>\n",
       "      <td>9</td>\n",
       "      <td>0</td>\n",
       "      <td>9</td>\n",
       "      <td>1</td>\n",
       "      <td>9</td>\n",
       "      <td>9</td>\n",
       "    </tr>\n",
       "    <tr>\n",
       "      <th>4</th>\n",
       "      <td>13109236</td>\n",
       "      <td>66</td>\n",
       "      <td>1.443414</td>\n",
       "      <td>0</td>\n",
       "      <td>0</td>\n",
       "      <td>0</td>\n",
       "      <td>0</td>\n",
       "      <td>0</td>\n",
       "      <td>1</td>\n",
       "      <td>1</td>\n",
       "      <td>...</td>\n",
       "      <td>4</td>\n",
       "      <td>4</td>\n",
       "      <td>4</td>\n",
       "      <td>4</td>\n",
       "      <td>4</td>\n",
       "      <td>4</td>\n",
       "      <td>4</td>\n",
       "      <td>4</td>\n",
       "      <td>4</td>\n",
       "      <td>4</td>\n",
       "    </tr>\n",
       "  </tbody>\n",
       "</table>\n",
       "<p>5 rows × 83 columns</p>\n",
       "</div>"
      ],
      "text/plain": [
       "   subject_id  age        los  CA  DNR  CMO  DNI  female  first_careunit  \\\n",
       "0    10246985   48   1.826250   0    0    0    0       1              10   \n",
       "1    14538806   59  10.581123   0    0    0    0       1              10   \n",
       "2    12850130   73   2.065255   0    0    0    0       1               4   \n",
       "3    11810761   84   1.435428   0    0    0    0       1              10   \n",
       "4    13109236   66   1.443414   0    0    0    0       0               1   \n",
       "\n",
       "   insurance  ...  Enlarged Cardiomediastinum  Fracture  Lung Lesion  \\\n",
       "0          1  ...                           2         9            9   \n",
       "1          1  ...                           4         4            4   \n",
       "2          1  ...                           4         4            4   \n",
       "3          3  ...                           0         9            9   \n",
       "4          1  ...                           4         4            4   \n",
       "\n",
       "   Lung Opacity  No Finding  Pleural Effusion  Pleural Other  Pneumonia  \\\n",
       "0             9           9                 0              9          9   \n",
       "1             4           4                 4              4          4   \n",
       "2             4           4                 4              4          4   \n",
       "3             0           9                 0              9          1   \n",
       "4             4           4                 4              4          4   \n",
       "\n",
       "   Pneumothorax  Support Devices  \n",
       "0             0                9  \n",
       "1             4                4  \n",
       "2             4                4  \n",
       "3             9                9  \n",
       "4             4                4  \n",
       "\n",
       "[5 rows x 83 columns]"
      ]
     },
     "metadata": {},
     "output_type": "display_data"
    },
    {
     "data": {
      "text/html": [
       "<div>\n",
       "<style scoped>\n",
       "    .dataframe tbody tr th:only-of-type {\n",
       "        vertical-align: middle;\n",
       "    }\n",
       "\n",
       "    .dataframe tbody tr th {\n",
       "        vertical-align: top;\n",
       "    }\n",
       "\n",
       "    .dataframe thead th {\n",
       "        text-align: right;\n",
       "    }\n",
       "</style>\n",
       "<table border=\"1\" class=\"dataframe\">\n",
       "  <thead>\n",
       "    <tr style=\"text-align: right;\">\n",
       "      <th></th>\n",
       "      <th>hospDIED</th>\n",
       "    </tr>\n",
       "  </thead>\n",
       "  <tbody>\n",
       "    <tr>\n",
       "      <th>0</th>\n",
       "      <td>0</td>\n",
       "    </tr>\n",
       "    <tr>\n",
       "      <th>1</th>\n",
       "      <td>0</td>\n",
       "    </tr>\n",
       "    <tr>\n",
       "      <th>2</th>\n",
       "      <td>0</td>\n",
       "    </tr>\n",
       "    <tr>\n",
       "      <th>3</th>\n",
       "      <td>0</td>\n",
       "    </tr>\n",
       "    <tr>\n",
       "      <th>4</th>\n",
       "      <td>0</td>\n",
       "    </tr>\n",
       "  </tbody>\n",
       "</table>\n",
       "</div>"
      ],
      "text/plain": [
       "   hospDIED\n",
       "0         0\n",
       "1         0\n",
       "2         0\n",
       "3         0\n",
       "4         0"
      ]
     },
     "metadata": {},
     "output_type": "display_data"
    },
    {
     "name": "stdout",
     "output_type": "stream",
     "text": [
      "#Training data points: 17248\n",
      "#Testing data points: 7393\n",
      "Class labels: [0 1]\n"
     ]
    },
    {
     "data": {
      "text/plain": [
       "DecisionTreeClassifier(criterion='entropy', max_depth=3, random_state=0)"
      ]
     },
     "execution_count": 247,
     "metadata": {},
     "output_type": "execute_result"
    }
   ],
   "source": [
    "#Read data\n",
    "X = pd.read_csv('https://raw.githubusercontent.com/aubreyyy24/HW2_data/main/x_train.csv')\n",
    "y = pd.read_csv('https://raw.githubusercontent.com/aubreyyy24/HW2_data/main/y_train.csv')\n",
    "X = X.drop('indextime', 1)\n",
    "display(X.head())\n",
    "display(y.head())\n",
    "#Split the data into training and validation sets\n",
    "#Build you model and evaluate it on your validation set\n",
    "\n",
    "X_train, X_test, y_train, y_test = train_test_split(\n",
    "    X, y, test_size=0.3, random_state=0)\n",
    "\n",
    "print('#Training data points: %d' % X_train.shape[0])\n",
    "print('#Testing data points: %d' % X_test.shape[0])\n",
    "print('Class labels:', np.unique(y))\n",
    "\n",
    "# criterion : impurity function\n",
    "# max_depth : maximum depth of tree\n",
    "# random_state : seed of random number generator\n",
    "tree = DecisionTreeClassifier(criterion='entropy', \n",
    "                              max_depth=3, \n",
    "                              random_state=0)\n",
    "tree.fit(X_train, y_train)\n"
   ]
  },
  {
   "cell_type": "markdown",
   "metadata": {
    "id": "V6MagTAmhURi"
   },
   "source": [
    "Make the final prediction from your model:"
   ]
  },
  {
   "cell_type": "code",
   "execution_count": 253,
   "metadata": {
    "id": "sGpSxmOBDYAG"
   },
   "outputs": [
    {
     "name": "stdout",
     "output_type": "stream",
     "text": [
      "0.8806979575273908\n",
      "(7393, 1)\n",
      "(7393, 1)\n",
      "Misclassified samples: 882\n",
      "Accuracy (tree): 0.88\n",
      "Accuracy (tree, sklearn): 0.88\n"
     ]
    }
   ],
   "source": [
    "print(tree.score(X_test,y_test))\n",
    "\n",
    "y_pred = tree.predict(X_test)\n",
    "y_pred = y_pred.reshape(y_pred.shape[0],1)\n",
    "print(y_pred.shape)\n",
    "print(y_test.shape)\n",
    "print('Misclassified samples: %d' % (y_test != y_pred).sum())\n",
    "print('Accuracy (tree): %.2f' % ((y_test == y_pred).sum() / y_test.shape[0]))\n",
    "\n",
    "# a more convenient way to evaluate a trained model is to use the sklearn.metrics \n",
    "from sklearn.metrics import accuracy_score\n",
    "print('Accuracy (tree, sklearn): %.2f' % accuracy_score(y_test, y_pred))\n",
    "\n",
    "\n",
    "x_test = pd.read_csv('https://raw.githubusercontent.com/aubreyyy24/HW2_data/main/x_test.csv')\n",
    "x_test = x_test.drop('indextime', 1)\n",
    "y_pred = tree.predict(x_test)"
   ]
  },
  {
   "cell_type": "code",
   "execution_count": 254,
   "metadata": {
    "id": "k3zecXTLFJci"
   },
   "outputs": [],
   "source": [
    "#final prediction with your decision tree(optional)\n",
    "def treePredictions(df, tree):\n",
    "\n",
    "  return predictions\n",
    "\n",
    "#y_pred = treePredictions(x_test, tree)"
   ]
  },
  {
   "cell_type": "markdown",
   "metadata": {
    "id": "zocBlOKdgaO8"
   },
   "source": [
    "To export your predcition as a CSV file and hand in the CSV on elearn"
   ]
  },
  {
   "cell_type": "code",
   "execution_count": 255,
   "metadata": {
    "id": "8YOjsyVmDA1s"
   },
   "outputs": [],
   "source": [
    "output_path = STUDENT_ID + '_prediction.csv'\n",
    "\n",
    "tree_test_pred = pd.DataFrame( {'subject_id': x_test.subject_id,\n",
    "                  'prediction': y_pred } )\n",
    "tree_test_pred.to_csv(output_path, index = False)"
   ]
  },
  {
   "cell_type": "markdown",
   "metadata": {
    "id": "aMh7DF47XV4k"
   },
   "source": [
    "## Visualizing the Decision Tree *(10% bonus)*\n",
    "\n",
    "**Note:** Save the visualization result image as **[STUDENT_ID]_visualization.png**\n",
    "\n",
    "*   Your visualization image of the decision tree can contain **five** layers at most.\n"
   ]
  },
  {
   "cell_type": "code",
   "execution_count": null,
   "metadata": {
    "id": "2tr0cSuooJpc"
   },
   "outputs": [],
   "source": [
    "#Decision Tree Visualization"
   ]
  },
  {
   "cell_type": "markdown",
   "metadata": {
    "id": "nU6YmzzrsaNl"
   },
   "source": [
    "# Report *(10%)*\n",
    "\n",
    "Report should be submitted as a pdf file! (**[STUDENT_ID]_report.pdf**)\n",
    "\n",
    "*   List the top 3 splitting features and their thresholds of your model\n",
    "*   Briefly describe how you build the decision tree\n",
    "*   Describe if you apply any improvement on your decision tree model\n",
    "*   If you preprocess the MIMIC data in the second part (selecting features...), describe the work and reasons\n",
    "*   Summarize your work\n",
    "*   Do not exceed 2 pages!\n",
    "\n",
    "\n",
    "\n",
    "\n"
   ]
  },
  {
   "cell_type": "markdown",
   "metadata": {
    "id": "JkqzcPNazBKd"
   },
   "source": [
    "# Save the Code File\n",
    "Please save your code and submit it as an ipynb file! (**[STUDENT_ID]_hw2.ipynb**)"
   ]
  }
 ],
 "metadata": {
  "colab": {
   "collapsed_sections": [
    "yEtwmT5QNVLn"
   ],
   "name": "HW2_Decision_Tree.ipynb",
   "provenance": []
  },
  "interpreter": {
   "hash": "23300995598eec4bcf6bd89cf02d1c3675e8b2616661418dbbf5580aa901878d"
  },
  "kernelspec": {
   "display_name": "Python 3",
   "language": "python",
   "name": "python3"
  },
  "language_info": {
   "codemirror_mode": {
    "name": "ipython",
    "version": 3
   },
   "file_extension": ".py",
   "mimetype": "text/x-python",
   "name": "python",
   "nbconvert_exporter": "python",
   "pygments_lexer": "ipython3",
   "version": "3.8.8"
  }
 },
 "nbformat": 4,
 "nbformat_minor": 1
}
